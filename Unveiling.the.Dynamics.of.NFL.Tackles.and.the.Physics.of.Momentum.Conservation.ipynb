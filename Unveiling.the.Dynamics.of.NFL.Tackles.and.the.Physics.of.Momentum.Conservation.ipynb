{
  "nbformat": 4,
  "nbformat_minor": 0,
  "metadata": {
    "colab": {
      "provenance": [],
      "authorship_tag": "ABX9TyPdd09OAIGl0XU3jmInEbzb",
      "include_colab_link": true
    },
    "kernelspec": {
      "name": "python3",
      "display_name": "Python 3"
    },
    "language_info": {
      "name": "python"
    }
  },
  "cells": [
    {
      "cell_type": "markdown",
      "metadata": {
        "id": "view-in-github",
        "colab_type": "text"
      },
      "source": [
        "<a href=\"https://colab.research.google.com/github/graylan0/nfl-big-data-bowl-2024/blob/main/Unveiling.the.Dynamics.of.NFL.Tackles.and.the.Physics.of.Momentum.Conservation.ipynb\" target=\"_parent\"><img src=\"https://colab.research.google.com/assets/colab-badge.svg\" alt=\"Open In Colab\"/></a>"
      ]
    },
    {
      "cell_type": "code",
      "execution_count": null,
      "metadata": {
        "id": "rEXq4EHJU9QL"
      },
      "outputs": [],
      "source": [
        "import pandas as pd\n",
        "import matplotlib.pyplot as plt\n",
        "import numpy as np\n",
        "\n",
        "def load_and_analyze_data():\n",
        "    \"\"\"Load and analyze tackling data from a CSV file.\"\"\"\n",
        "    df = pd.read_csv('tackles.csv')\n",
        "    print(\"First few rows of the DataFrame:\")\n",
        "    print(df.head())\n",
        "    print(\"\\nBasic statistics:\")\n",
        "    print(df.describe())\n",
        "    player_stats = df.groupby('nflId').agg({\n",
        "        'tackle': 'sum',\n",
        "        'assist': 'sum',\n",
        "        'forcedFumble': 'sum',\n",
        "        'pff_missedTackle': 'sum'\n",
        "    }).reset_index()\n",
        "    print(\"\\nPlayer statistics:\")\n",
        "    print(player_stats)\n",
        "    visualize_data(player_stats)\n",
        "\n",
        "def visualize_data(player_stats):\n",
        "    \"\"\"Visualize the tackling data.\"\"\"\n",
        "    plt.figure(figsize=(10, 6))\n",
        "    plt.bar(player_stats['nflId'].astype(str), player_stats['tackle'])\n",
        "    plt.xlabel('NFL ID')\n",
        "    plt.ylabel('Number of Tackles')\n",
        "    plt.title('Number of Tackles by Player')\n",
        "    plt.xticks(rotation=45)\n",
        "    plt.show()\n",
        "\n",
        "def validate_inputs(m1, v1, m2, v2):\n",
        "    \"\"\"Validates the input parameters for momentum calculation.\"\"\"\n",
        "    if m1 < 0 or m2 < 0 or v1 < 0 or v2 < 0:\n",
        "        raise ValueError(\"Mass and velocity must be non-negative.\")\n",
        "\n",
        "def calculate_momentum_conservation(m1, v1, theta1, m2, v2, theta2, elastic=True):\n",
        "    \"\"\"Calculates the final velocities and angles of two colliding objects.\"\"\"\n",
        "    validate_inputs(m1, v1, m2, v2)\n",
        "    theta1, theta2 = np.radians(theta1), np.radians(theta2)\n",
        "    p1_before = m1 * v1 * np.array([np.cos(theta1), np.sin(theta1)])\n",
        "    p2_before = m2 * v2 * np.array([np.cos(theta2), np.sin(theta2)])\n",
        "    p_tot_before = p1_before + p2_before\n",
        "    if not elastic:\n",
        "        p_tot_before *= (1 - 0.5)  # Coefficient of restitution for inelastic collisions\n",
        "    p1_after = p_tot_before * (m1 / (m1 + m2))\n",
        "    p2_after = p_tot_before * (m2 / (m1 + m2))\n",
        "    v1f = np.linalg.norm(p1_after) / m1\n",
        "    v2f = np.linalg.norm(p2_after) / m2\n",
        "    theta1f = np.degrees(np.arctan2(p1_after[1], p1_after[0]))\n",
        "    theta2f = np.degrees(np.arctan2(p2_after[1], p2_after[0]))\n",
        "    return ((v1f, theta1f), (v2f, theta2f))\n",
        "\n",
        "if __name__ == \"__main__\":\n",
        "    # Data Analysis\n",
        "    load_and_analyze_data()\n",
        "\n",
        "    # Physics Simulation\n",
        "    m1, v1, theta1 = 10, 10, 30  # First object\n",
        "    m2, v2, theta2 = 5, 5, 60    # Second object\n",
        "    (v1f, theta1f), (v2f, theta2f) = calculate_momentum_conservation(m1, v1, theta1, m2, v2, theta2)\n",
        "    print(f\"\\nFinal velocities and angles:\")\n",
        "    print(f\"Object 1: v1f = {v1f:.2f} m/s, theta1f = {theta1f:.2f} degrees\")\n",
        "    print(f\"Object 2: v2f = {v2f:.2f} m/s, theta2f = {theta2f:.2f} degrees\")\n"
      ]
    }
  ]
}